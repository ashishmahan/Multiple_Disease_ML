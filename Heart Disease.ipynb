{
  "nbformat": 4,
  "nbformat_minor": 0,
  "metadata": {
    "colab": {
      "provenance": []
    },
    "kernelspec": {
      "name": "python3",
      "display_name": "Python 3"
    },
    "language_info": {
      "name": "python"
    }
  },
  "cells": [
    {
      "cell_type": "code",
      "execution_count": 2,
      "metadata": {
        "colab": {
          "base_uri": "https://localhost:8080/"
        },
        "id": "Uw4accOA2f78",
        "outputId": "4f27b2ba-e61d-44e5-84f8-e403d9bc1d61"
      },
      "outputs": [
        {
          "output_type": "stream",
          "name": "stderr",
          "text": [
            "/usr/local/lib/python3.10/dist-packages/sklearn/linear_model/_logistic.py:458: ConvergenceWarning: lbfgs failed to converge (status=1):\n",
            "STOP: TOTAL NO. of ITERATIONS REACHED LIMIT.\n",
            "\n",
            "Increase the number of iterations (max_iter) or scale the data as shown in:\n",
            "    https://scikit-learn.org/stable/modules/preprocessing.html\n",
            "Please also refer to the documentation for alternative solver options:\n",
            "    https://scikit-learn.org/stable/modules/linear_model.html#logistic-regression\n",
            "  n_iter_i = _check_optimize_result(\n"
          ]
        },
        {
          "output_type": "stream",
          "name": "stdout",
          "text": [
            "Accuracy of Logistic Regression on Test Data: 0.8197\n",
            "Accuracy of Decision Tree on Test Data: 0.7869\n",
            "Accuracy of Random Forest on Test Data: 0.7869\n",
            "Accuracy of SVM on Test Data: 0.6230\n",
            "Accuracy of K-Nearest Neighbors on Test Data: 0.6230\n",
            "Accuracy of Naive Bayes on Test Data: 0.8197\n"
          ]
        }
      ],
      "source": [
        "# Importing the Dependencies\n",
        "import numpy as np\n",
        "import pandas as pd\n",
        "from sklearn.model_selection import train_test_split\n",
        "from sklearn.linear_model import LogisticRegression\n",
        "from sklearn.tree import DecisionTreeClassifier\n",
        "from sklearn.ensemble import RandomForestClassifier\n",
        "from sklearn.svm import SVC\n",
        "from sklearn.neighbors import KNeighborsClassifier\n",
        "from sklearn.naive_bayes import GaussianNB\n",
        "from sklearn.metrics import accuracy_score\n",
        "\n",
        "# Data Collection and Processing\n",
        "heart_data = pd.read_csv('/content/heart_disease.csv')\n",
        "\n",
        "# Splitting the Features and Target\n",
        "X = heart_data.drop(columns='target', axis=1)\n",
        "Y = heart_data['target']\n",
        "\n",
        "# Splitting the Data into Training data & Test Data\n",
        "X_train, X_test, Y_train, Y_test = train_test_split(X, Y, test_size=0.2, stratify=Y, random_state=2)\n",
        "\n",
        "# Initialize models\n",
        "logistic_model = LogisticRegression()\n",
        "dt_model = DecisionTreeClassifier()\n",
        "rf_model = RandomForestClassifier()\n",
        "svm_model = SVC()\n",
        "knn_model = KNeighborsClassifier()\n",
        "nb_model = GaussianNB()\n",
        "\n",
        "# List of models\n",
        "models = [logistic_model, dt_model, rf_model, svm_model, knn_model, nb_model]\n",
        "\n",
        "# Model names for printing\n",
        "model_names = [\"Logistic Regression\", \"Decision Tree\", \"Random Forest\", \"SVM\", \"K-Nearest Neighbors\", \"Naive Bayes\"]\n",
        "\n",
        "# Iterate over models\n",
        "for model, name in zip(models, model_names):\n",
        "    model.fit(X_train, Y_train)\n",
        "    test_predictions = model.predict(X_test)\n",
        "    test_accuracy = accuracy_score(test_predictions, Y_test)\n",
        "    print(f'Accuracy of {name} on Test Data: {test_accuracy:.4f}')\n"
      ]
    }
  ]
}