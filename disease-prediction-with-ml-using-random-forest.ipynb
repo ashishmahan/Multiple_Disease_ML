{
 "cells": [
  {
   "cell_type": "markdown",
   "id": "12ab0c0e",
   "metadata": {
    "papermill": {
     "duration": 0.007892,
     "end_time": "2023-05-25T14:26:08.178336",
     "exception": false,
     "start_time": "2023-05-25T14:26:08.170444",
     "status": "completed"
    },
    "tags": []
   },
   "source": [
    "# Disease Prediction With ML using Random Forest"
   ]
  },
  {
   "cell_type": "code",
   "execution_count": 1,
   "id": "8720cddd",
   "metadata": {
    "execution": {
     "iopub.execute_input": "2023-05-25T14:26:08.195343Z",
     "iopub.status.busy": "2023-05-25T14:26:08.194758Z",
     "iopub.status.idle": "2023-05-25T14:26:10.663701Z",
     "shell.execute_reply": "2023-05-25T14:26:10.662414Z"
    },
    "papermill": {
     "duration": 2.481567,
     "end_time": "2023-05-25T14:26:10.667375",
     "exception": false,
     "start_time": "2023-05-25T14:26:08.185808",
     "status": "completed"
    },
    "tags": []
   },
   "outputs": [
    {
     "data": {
      "text/html": [
       "<div>\n",
       "<style scoped>\n",
       "    .dataframe tbody tr th:only-of-type {\n",
       "        vertical-align: middle;\n",
       "    }\n",
       "\n",
       "    .dataframe tbody tr th {\n",
       "        vertical-align: top;\n",
       "    }\n",
       "\n",
       "    .dataframe thead th {\n",
       "        text-align: right;\n",
       "    }\n",
       "</style>\n",
       "<table border=\"1\" class=\"dataframe\">\n",
       "  <thead>\n",
       "    <tr style=\"text-align: right;\">\n",
       "      <th></th>\n",
       "      <th>itching</th>\n",
       "      <th>skin_rash</th>\n",
       "      <th>nodal_skin_eruptions</th>\n",
       "      <th>continuous_sneezing</th>\n",
       "      <th>shivering</th>\n",
       "      <th>chills</th>\n",
       "      <th>joint_pain</th>\n",
       "      <th>stomach_pain</th>\n",
       "      <th>acidity</th>\n",
       "      <th>ulcers_on_tongue</th>\n",
       "      <th>...</th>\n",
       "      <th>scurring</th>\n",
       "      <th>skin_peeling</th>\n",
       "      <th>silver_like_dusting</th>\n",
       "      <th>small_dents_in_nails</th>\n",
       "      <th>inflammatory_nails</th>\n",
       "      <th>blister</th>\n",
       "      <th>red_sore_around_nose</th>\n",
       "      <th>yellow_crust_ooze</th>\n",
       "      <th>prognosis</th>\n",
       "      <th>Unnamed: 133</th>\n",
       "    </tr>\n",
       "  </thead>\n",
       "  <tbody>\n",
       "    <tr>\n",
       "      <th>0</th>\n",
       "      <td>1</td>\n",
       "      <td>1</td>\n",
       "      <td>1</td>\n",
       "      <td>0</td>\n",
       "      <td>0</td>\n",
       "      <td>0</td>\n",
       "      <td>0</td>\n",
       "      <td>0</td>\n",
       "      <td>0</td>\n",
       "      <td>0</td>\n",
       "      <td>...</td>\n",
       "      <td>0</td>\n",
       "      <td>0</td>\n",
       "      <td>0</td>\n",
       "      <td>0</td>\n",
       "      <td>0</td>\n",
       "      <td>0</td>\n",
       "      <td>0</td>\n",
       "      <td>0</td>\n",
       "      <td>Fungal infection</td>\n",
       "      <td>NaN</td>\n",
       "    </tr>\n",
       "    <tr>\n",
       "      <th>1</th>\n",
       "      <td>0</td>\n",
       "      <td>1</td>\n",
       "      <td>1</td>\n",
       "      <td>0</td>\n",
       "      <td>0</td>\n",
       "      <td>0</td>\n",
       "      <td>0</td>\n",
       "      <td>0</td>\n",
       "      <td>0</td>\n",
       "      <td>0</td>\n",
       "      <td>...</td>\n",
       "      <td>0</td>\n",
       "      <td>0</td>\n",
       "      <td>0</td>\n",
       "      <td>0</td>\n",
       "      <td>0</td>\n",
       "      <td>0</td>\n",
       "      <td>0</td>\n",
       "      <td>0</td>\n",
       "      <td>Fungal infection</td>\n",
       "      <td>NaN</td>\n",
       "    </tr>\n",
       "    <tr>\n",
       "      <th>2</th>\n",
       "      <td>1</td>\n",
       "      <td>0</td>\n",
       "      <td>1</td>\n",
       "      <td>0</td>\n",
       "      <td>0</td>\n",
       "      <td>0</td>\n",
       "      <td>0</td>\n",
       "      <td>0</td>\n",
       "      <td>0</td>\n",
       "      <td>0</td>\n",
       "      <td>...</td>\n",
       "      <td>0</td>\n",
       "      <td>0</td>\n",
       "      <td>0</td>\n",
       "      <td>0</td>\n",
       "      <td>0</td>\n",
       "      <td>0</td>\n",
       "      <td>0</td>\n",
       "      <td>0</td>\n",
       "      <td>Fungal infection</td>\n",
       "      <td>NaN</td>\n",
       "    </tr>\n",
       "    <tr>\n",
       "      <th>3</th>\n",
       "      <td>1</td>\n",
       "      <td>1</td>\n",
       "      <td>0</td>\n",
       "      <td>0</td>\n",
       "      <td>0</td>\n",
       "      <td>0</td>\n",
       "      <td>0</td>\n",
       "      <td>0</td>\n",
       "      <td>0</td>\n",
       "      <td>0</td>\n",
       "      <td>...</td>\n",
       "      <td>0</td>\n",
       "      <td>0</td>\n",
       "      <td>0</td>\n",
       "      <td>0</td>\n",
       "      <td>0</td>\n",
       "      <td>0</td>\n",
       "      <td>0</td>\n",
       "      <td>0</td>\n",
       "      <td>Fungal infection</td>\n",
       "      <td>NaN</td>\n",
       "    </tr>\n",
       "    <tr>\n",
       "      <th>4</th>\n",
       "      <td>1</td>\n",
       "      <td>1</td>\n",
       "      <td>1</td>\n",
       "      <td>0</td>\n",
       "      <td>0</td>\n",
       "      <td>0</td>\n",
       "      <td>0</td>\n",
       "      <td>0</td>\n",
       "      <td>0</td>\n",
       "      <td>0</td>\n",
       "      <td>...</td>\n",
       "      <td>0</td>\n",
       "      <td>0</td>\n",
       "      <td>0</td>\n",
       "      <td>0</td>\n",
       "      <td>0</td>\n",
       "      <td>0</td>\n",
       "      <td>0</td>\n",
       "      <td>0</td>\n",
       "      <td>Fungal infection</td>\n",
       "      <td>NaN</td>\n",
       "    </tr>\n",
       "  </tbody>\n",
       "</table>\n",
       "<p>5 rows × 134 columns</p>\n",
       "</div>"
      ],
      "text/plain": [
       "   itching  skin_rash  nodal_skin_eruptions  continuous_sneezing  shivering  \\\n",
       "0        1          1                     1                    0          0   \n",
       "1        0          1                     1                    0          0   \n",
       "2        1          0                     1                    0          0   \n",
       "3        1          1                     0                    0          0   \n",
       "4        1          1                     1                    0          0   \n",
       "\n",
       "   chills  joint_pain  stomach_pain  acidity  ulcers_on_tongue  ...  scurring  \\\n",
       "0       0           0             0        0                 0  ...         0   \n",
       "1       0           0             0        0                 0  ...         0   \n",
       "2       0           0             0        0                 0  ...         0   \n",
       "3       0           0             0        0                 0  ...         0   \n",
       "4       0           0             0        0                 0  ...         0   \n",
       "\n",
       "   skin_peeling  silver_like_dusting  small_dents_in_nails  \\\n",
       "0             0                    0                     0   \n",
       "1             0                    0                     0   \n",
       "2             0                    0                     0   \n",
       "3             0                    0                     0   \n",
       "4             0                    0                     0   \n",
       "\n",
       "   inflammatory_nails  blister  red_sore_around_nose  yellow_crust_ooze  \\\n",
       "0                   0        0                     0                  0   \n",
       "1                   0        0                     0                  0   \n",
       "2                   0        0                     0                  0   \n",
       "3                   0        0                     0                  0   \n",
       "4                   0        0                     0                  0   \n",
       "\n",
       "          prognosis  Unnamed: 133  \n",
       "0  Fungal infection           NaN  \n",
       "1  Fungal infection           NaN  \n",
       "2  Fungal infection           NaN  \n",
       "3  Fungal infection           NaN  \n",
       "4  Fungal infection           NaN  \n",
       "\n",
       "[5 rows x 134 columns]"
      ]
     },
     "execution_count": 1,
     "metadata": {},
     "output_type": "execute_result"
    }
   ],
   "source": [
    "import pandas as pd\n",
    "import matplotlib.pyplot as plt\n",
    "from sklearn.ensemble import RandomForestClassifier\n",
    "from sklearn.model_selection import train_test_split\n",
    "\n",
    "# Load the dataset\n",
    "data = pd.read_csv(\"/kaggle/input/disease-prediction-using-machine-learning/Training.csv\")\n",
    "data.head()"
   ]
  },
  {
   "cell_type": "markdown",
   "id": "e84e1e8f",
   "metadata": {
    "papermill": {
     "duration": 0.007393,
     "end_time": "2023-05-25T14:26:10.682775",
     "exception": false,
     "start_time": "2023-05-25T14:26:10.675382",
     "status": "completed"
    },
    "tags": []
   },
   "source": [
    "## Check Missing Values"
   ]
  },
  {
   "cell_type": "code",
   "execution_count": 2,
   "id": "89af4fe4",
   "metadata": {
    "execution": {
     "iopub.execute_input": "2023-05-25T14:26:10.700428Z",
     "iopub.status.busy": "2023-05-25T14:26:10.699914Z",
     "iopub.status.idle": "2023-05-25T14:26:10.721307Z",
     "shell.execute_reply": "2023-05-25T14:26:10.720063Z"
    },
    "papermill": {
     "duration": 0.033586,
     "end_time": "2023-05-25T14:26:10.724177",
     "exception": false,
     "start_time": "2023-05-25T14:26:10.690591",
     "status": "completed"
    },
    "tags": []
   },
   "outputs": [
    {
     "data": {
      "text/plain": [
       "0       133\n",
       "4920      1\n",
       "dtype: int64"
      ]
     },
     "execution_count": 2,
     "metadata": {},
     "output_type": "execute_result"
    }
   ],
   "source": [
    "data.isna().sum().value_counts()"
   ]
  },
  {
   "cell_type": "code",
   "execution_count": 3,
   "id": "64d51414",
   "metadata": {
    "execution": {
     "iopub.execute_input": "2023-05-25T14:26:10.746466Z",
     "iopub.status.busy": "2023-05-25T14:26:10.746004Z",
     "iopub.status.idle": "2023-05-25T14:26:10.755157Z",
     "shell.execute_reply": "2023-05-25T14:26:10.753990Z"
    },
    "papermill": {
     "duration": 0.027171,
     "end_time": "2023-05-25T14:26:10.759311",
     "exception": false,
     "start_time": "2023-05-25T14:26:10.732140",
     "status": "completed"
    },
    "tags": []
   },
   "outputs": [
    {
     "data": {
      "text/plain": [
       "Index(['itching', 'skin_rash', 'nodal_skin_eruptions', 'continuous_sneezing',\n",
       "       'shivering', 'chills', 'joint_pain', 'stomach_pain', 'acidity',\n",
       "       'ulcers_on_tongue',\n",
       "       ...\n",
       "       'scurring', 'skin_peeling', 'silver_like_dusting',\n",
       "       'small_dents_in_nails', 'inflammatory_nails', 'blister',\n",
       "       'red_sore_around_nose', 'yellow_crust_ooze', 'prognosis',\n",
       "       'Unnamed: 133'],\n",
       "      dtype='object', length=134)"
      ]
     },
     "execution_count": 3,
     "metadata": {},
     "output_type": "execute_result"
    }
   ],
   "source": [
    "data.columns"
   ]
  },
  {
   "cell_type": "markdown",
   "id": "96387950",
   "metadata": {
    "papermill": {
     "duration": 0.007628,
     "end_time": "2023-05-25T14:26:10.775166",
     "exception": false,
     "start_time": "2023-05-25T14:26:10.767538",
     "status": "completed"
    },
    "tags": []
   },
   "source": [
    "## Drop unnecessary Column"
   ]
  },
  {
   "cell_type": "code",
   "execution_count": 4,
   "id": "d1ab45a3",
   "metadata": {
    "execution": {
     "iopub.execute_input": "2023-05-25T14:26:10.793731Z",
     "iopub.status.busy": "2023-05-25T14:26:10.793217Z",
     "iopub.status.idle": "2023-05-25T14:26:10.811359Z",
     "shell.execute_reply": "2023-05-25T14:26:10.809941Z"
    },
    "papermill": {
     "duration": 0.031231,
     "end_time": "2023-05-25T14:26:10.814615",
     "exception": false,
     "start_time": "2023-05-25T14:26:10.783384",
     "status": "completed"
    },
    "tags": []
   },
   "outputs": [],
   "source": [
    "data.drop('Unnamed: 133',axis=1,inplace=True)"
   ]
  },
  {
   "cell_type": "code",
   "execution_count": 5,
   "id": "fcdeb2e4",
   "metadata": {
    "execution": {
     "iopub.execute_input": "2023-05-25T14:26:10.834005Z",
     "iopub.status.busy": "2023-05-25T14:26:10.833504Z",
     "iopub.status.idle": "2023-05-25T14:26:10.847441Z",
     "shell.execute_reply": "2023-05-25T14:26:10.846106Z"
    },
    "papermill": {
     "duration": 0.026838,
     "end_time": "2023-05-25T14:26:10.850174",
     "exception": false,
     "start_time": "2023-05-25T14:26:10.823336",
     "status": "completed"
    },
    "tags": []
   },
   "outputs": [],
   "source": [
    "X = data.iloc[:,:-1]\n",
    "y = data.iloc[:,-1]"
   ]
  },
  {
   "cell_type": "markdown",
   "id": "f3b27709",
   "metadata": {
    "papermill": {
     "duration": 0.007795,
     "end_time": "2023-05-25T14:26:10.866689",
     "exception": false,
     "start_time": "2023-05-25T14:26:10.858894",
     "status": "completed"
    },
    "tags": []
   },
   "source": [
    "## Split the data into training and testing sets"
   ]
  },
  {
   "cell_type": "code",
   "execution_count": 6,
   "id": "8f851b91",
   "metadata": {
    "execution": {
     "iopub.execute_input": "2023-05-25T14:26:10.886321Z",
     "iopub.status.busy": "2023-05-25T14:26:10.885564Z",
     "iopub.status.idle": "2023-05-25T14:26:10.900683Z",
     "shell.execute_reply": "2023-05-25T14:26:10.899357Z"
    },
    "papermill": {
     "duration": 0.028376,
     "end_time": "2023-05-25T14:26:10.903904",
     "exception": false,
     "start_time": "2023-05-25T14:26:10.875528",
     "status": "completed"
    },
    "tags": []
   },
   "outputs": [],
   "source": [
    "X_train, X_test, y_train, y_test = train_test_split(X, y, test_size=0.2, random_state=42)"
   ]
  },
  {
   "cell_type": "markdown",
   "id": "375da7c9",
   "metadata": {
    "papermill": {
     "duration": 0.007853,
     "end_time": "2023-05-25T14:26:10.919995",
     "exception": false,
     "start_time": "2023-05-25T14:26:10.912142",
     "status": "completed"
    },
    "tags": []
   },
   "source": [
    "## Fitting the model"
   ]
  },
  {
   "cell_type": "code",
   "execution_count": 7,
   "id": "855ee75d",
   "metadata": {
    "execution": {
     "iopub.execute_input": "2023-05-25T14:26:10.938581Z",
     "iopub.status.busy": "2023-05-25T14:26:10.938082Z",
     "iopub.status.idle": "2023-05-25T14:26:11.623306Z",
     "shell.execute_reply": "2023-05-25T14:26:11.622148Z"
    },
    "papermill": {
     "duration": 0.698032,
     "end_time": "2023-05-25T14:26:11.626268",
     "exception": false,
     "start_time": "2023-05-25T14:26:10.928236",
     "status": "completed"
    },
    "tags": []
   },
   "outputs": [],
   "source": [
    "random = RandomForestClassifier().fit(X_train,y_train)"
   ]
  },
  {
   "cell_type": "markdown",
   "id": "21c4e637",
   "metadata": {
    "papermill": {
     "duration": 0.007623,
     "end_time": "2023-05-25T14:26:11.642151",
     "exception": false,
     "start_time": "2023-05-25T14:26:11.634528",
     "status": "completed"
    },
    "tags": []
   },
   "source": [
    "## Test the Model"
   ]
  },
  {
   "cell_type": "code",
   "execution_count": 8,
   "id": "70041b2d",
   "metadata": {
    "execution": {
     "iopub.execute_input": "2023-05-25T14:26:11.661276Z",
     "iopub.status.busy": "2023-05-25T14:26:11.659941Z",
     "iopub.status.idle": "2023-05-25T14:26:11.721018Z",
     "shell.execute_reply": "2023-05-25T14:26:11.719579Z"
    },
    "papermill": {
     "duration": 0.073668,
     "end_time": "2023-05-25T14:26:11.724018",
     "exception": false,
     "start_time": "2023-05-25T14:26:11.650350",
     "status": "completed"
    },
    "tags": []
   },
   "outputs": [
    {
     "data": {
      "text/plain": [
       "1.0"
      ]
     },
     "execution_count": 8,
     "metadata": {},
     "output_type": "execute_result"
    }
   ],
   "source": [
    "random.score(X_test,y_test)"
   ]
  },
  {
   "cell_type": "markdown",
   "id": "e918fcc8",
   "metadata": {
    "papermill": {
     "duration": 0.007743,
     "end_time": "2023-05-25T14:26:11.740017",
     "exception": false,
     "start_time": "2023-05-25T14:26:11.732274",
     "status": "completed"
    },
    "tags": []
   },
   "source": [
    "## Now we will use the second Data"
   ]
  },
  {
   "cell_type": "code",
   "execution_count": 9,
   "id": "e05a1794",
   "metadata": {
    "execution": {
     "iopub.execute_input": "2023-05-25T14:26:11.759747Z",
     "iopub.status.busy": "2023-05-25T14:26:11.759267Z",
     "iopub.status.idle": "2023-05-25T14:26:11.799823Z",
     "shell.execute_reply": "2023-05-25T14:26:11.798570Z"
    },
    "papermill": {
     "duration": 0.05456,
     "end_time": "2023-05-25T14:26:11.802793",
     "exception": false,
     "start_time": "2023-05-25T14:26:11.748233",
     "status": "completed"
    },
    "tags": []
   },
   "outputs": [
    {
     "data": {
      "text/html": [
       "<div>\n",
       "<style scoped>\n",
       "    .dataframe tbody tr th:only-of-type {\n",
       "        vertical-align: middle;\n",
       "    }\n",
       "\n",
       "    .dataframe tbody tr th {\n",
       "        vertical-align: top;\n",
       "    }\n",
       "\n",
       "    .dataframe thead th {\n",
       "        text-align: right;\n",
       "    }\n",
       "</style>\n",
       "<table border=\"1\" class=\"dataframe\">\n",
       "  <thead>\n",
       "    <tr style=\"text-align: right;\">\n",
       "      <th></th>\n",
       "      <th>itching</th>\n",
       "      <th>skin_rash</th>\n",
       "      <th>nodal_skin_eruptions</th>\n",
       "      <th>continuous_sneezing</th>\n",
       "      <th>shivering</th>\n",
       "      <th>chills</th>\n",
       "      <th>joint_pain</th>\n",
       "      <th>stomach_pain</th>\n",
       "      <th>acidity</th>\n",
       "      <th>ulcers_on_tongue</th>\n",
       "      <th>...</th>\n",
       "      <th>blackheads</th>\n",
       "      <th>scurring</th>\n",
       "      <th>skin_peeling</th>\n",
       "      <th>silver_like_dusting</th>\n",
       "      <th>small_dents_in_nails</th>\n",
       "      <th>inflammatory_nails</th>\n",
       "      <th>blister</th>\n",
       "      <th>red_sore_around_nose</th>\n",
       "      <th>yellow_crust_ooze</th>\n",
       "      <th>prognosis</th>\n",
       "    </tr>\n",
       "  </thead>\n",
       "  <tbody>\n",
       "    <tr>\n",
       "      <th>0</th>\n",
       "      <td>1</td>\n",
       "      <td>1</td>\n",
       "      <td>1</td>\n",
       "      <td>0</td>\n",
       "      <td>0</td>\n",
       "      <td>0</td>\n",
       "      <td>0</td>\n",
       "      <td>0</td>\n",
       "      <td>0</td>\n",
       "      <td>0</td>\n",
       "      <td>...</td>\n",
       "      <td>0</td>\n",
       "      <td>0</td>\n",
       "      <td>0</td>\n",
       "      <td>0</td>\n",
       "      <td>0</td>\n",
       "      <td>0</td>\n",
       "      <td>0</td>\n",
       "      <td>0</td>\n",
       "      <td>0</td>\n",
       "      <td>Fungal infection</td>\n",
       "    </tr>\n",
       "    <tr>\n",
       "      <th>1</th>\n",
       "      <td>0</td>\n",
       "      <td>0</td>\n",
       "      <td>0</td>\n",
       "      <td>1</td>\n",
       "      <td>1</td>\n",
       "      <td>1</td>\n",
       "      <td>0</td>\n",
       "      <td>0</td>\n",
       "      <td>0</td>\n",
       "      <td>0</td>\n",
       "      <td>...</td>\n",
       "      <td>0</td>\n",
       "      <td>0</td>\n",
       "      <td>0</td>\n",
       "      <td>0</td>\n",
       "      <td>0</td>\n",
       "      <td>0</td>\n",
       "      <td>0</td>\n",
       "      <td>0</td>\n",
       "      <td>0</td>\n",
       "      <td>Allergy</td>\n",
       "    </tr>\n",
       "    <tr>\n",
       "      <th>2</th>\n",
       "      <td>0</td>\n",
       "      <td>0</td>\n",
       "      <td>0</td>\n",
       "      <td>0</td>\n",
       "      <td>0</td>\n",
       "      <td>0</td>\n",
       "      <td>0</td>\n",
       "      <td>1</td>\n",
       "      <td>1</td>\n",
       "      <td>1</td>\n",
       "      <td>...</td>\n",
       "      <td>0</td>\n",
       "      <td>0</td>\n",
       "      <td>0</td>\n",
       "      <td>0</td>\n",
       "      <td>0</td>\n",
       "      <td>0</td>\n",
       "      <td>0</td>\n",
       "      <td>0</td>\n",
       "      <td>0</td>\n",
       "      <td>GERD</td>\n",
       "    </tr>\n",
       "    <tr>\n",
       "      <th>3</th>\n",
       "      <td>1</td>\n",
       "      <td>0</td>\n",
       "      <td>0</td>\n",
       "      <td>0</td>\n",
       "      <td>0</td>\n",
       "      <td>0</td>\n",
       "      <td>0</td>\n",
       "      <td>0</td>\n",
       "      <td>0</td>\n",
       "      <td>0</td>\n",
       "      <td>...</td>\n",
       "      <td>0</td>\n",
       "      <td>0</td>\n",
       "      <td>0</td>\n",
       "      <td>0</td>\n",
       "      <td>0</td>\n",
       "      <td>0</td>\n",
       "      <td>0</td>\n",
       "      <td>0</td>\n",
       "      <td>0</td>\n",
       "      <td>Chronic cholestasis</td>\n",
       "    </tr>\n",
       "    <tr>\n",
       "      <th>4</th>\n",
       "      <td>1</td>\n",
       "      <td>1</td>\n",
       "      <td>0</td>\n",
       "      <td>0</td>\n",
       "      <td>0</td>\n",
       "      <td>0</td>\n",
       "      <td>0</td>\n",
       "      <td>1</td>\n",
       "      <td>0</td>\n",
       "      <td>0</td>\n",
       "      <td>...</td>\n",
       "      <td>0</td>\n",
       "      <td>0</td>\n",
       "      <td>0</td>\n",
       "      <td>0</td>\n",
       "      <td>0</td>\n",
       "      <td>0</td>\n",
       "      <td>0</td>\n",
       "      <td>0</td>\n",
       "      <td>0</td>\n",
       "      <td>Drug Reaction</td>\n",
       "    </tr>\n",
       "  </tbody>\n",
       "</table>\n",
       "<p>5 rows × 133 columns</p>\n",
       "</div>"
      ],
      "text/plain": [
       "   itching  skin_rash  nodal_skin_eruptions  continuous_sneezing  shivering  \\\n",
       "0        1          1                     1                    0          0   \n",
       "1        0          0                     0                    1          1   \n",
       "2        0          0                     0                    0          0   \n",
       "3        1          0                     0                    0          0   \n",
       "4        1          1                     0                    0          0   \n",
       "\n",
       "   chills  joint_pain  stomach_pain  acidity  ulcers_on_tongue  ...  \\\n",
       "0       0           0             0        0                 0  ...   \n",
       "1       1           0             0        0                 0  ...   \n",
       "2       0           0             1        1                 1  ...   \n",
       "3       0           0             0        0                 0  ...   \n",
       "4       0           0             1        0                 0  ...   \n",
       "\n",
       "   blackheads  scurring  skin_peeling  silver_like_dusting  \\\n",
       "0           0         0             0                    0   \n",
       "1           0         0             0                    0   \n",
       "2           0         0             0                    0   \n",
       "3           0         0             0                    0   \n",
       "4           0         0             0                    0   \n",
       "\n",
       "   small_dents_in_nails  inflammatory_nails  blister  red_sore_around_nose  \\\n",
       "0                     0                   0        0                     0   \n",
       "1                     0                   0        0                     0   \n",
       "2                     0                   0        0                     0   \n",
       "3                     0                   0        0                     0   \n",
       "4                     0                   0        0                     0   \n",
       "\n",
       "   yellow_crust_ooze            prognosis  \n",
       "0                  0     Fungal infection  \n",
       "1                  0              Allergy  \n",
       "2                  0                 GERD  \n",
       "3                  0  Chronic cholestasis  \n",
       "4                  0        Drug Reaction  \n",
       "\n",
       "[5 rows x 133 columns]"
      ]
     },
     "execution_count": 9,
     "metadata": {},
     "output_type": "execute_result"
    }
   ],
   "source": [
    "data2 = pd.read_csv(\"/kaggle/input/disease-prediction-using-machine-learning/Testing.csv\")\n",
    "data2.head()"
   ]
  },
  {
   "cell_type": "markdown",
   "id": "61b59af7",
   "metadata": {
    "papermill": {
     "duration": 0.008109,
     "end_time": "2023-05-25T14:26:11.819535",
     "exception": false,
     "start_time": "2023-05-25T14:26:11.811426",
     "status": "completed"
    },
    "tags": []
   },
   "source": [
    "## using testing and actual data"
   ]
  },
  {
   "cell_type": "code",
   "execution_count": 10,
   "id": "4816a55a",
   "metadata": {
    "execution": {
     "iopub.execute_input": "2023-05-25T14:26:11.839649Z",
     "iopub.status.busy": "2023-05-25T14:26:11.839165Z",
     "iopub.status.idle": "2023-05-25T14:26:11.845331Z",
     "shell.execute_reply": "2023-05-25T14:26:11.843948Z"
    },
    "papermill": {
     "duration": 0.019514,
     "end_time": "2023-05-25T14:26:11.848123",
     "exception": false,
     "start_time": "2023-05-25T14:26:11.828609",
     "status": "completed"
    },
    "tags": []
   },
   "outputs": [],
   "source": [
    "test = data2.iloc[:,:-1]\n",
    "actual = data2.iloc[:,-1]"
   ]
  },
  {
   "cell_type": "code",
   "execution_count": 11,
   "id": "5a73f61d",
   "metadata": {
    "execution": {
     "iopub.execute_input": "2023-05-25T14:26:11.867682Z",
     "iopub.status.busy": "2023-05-25T14:26:11.867197Z",
     "iopub.status.idle": "2023-05-25T14:26:11.889962Z",
     "shell.execute_reply": "2023-05-25T14:26:11.888346Z"
    },
    "papermill": {
     "duration": 0.03625,
     "end_time": "2023-05-25T14:26:11.893156",
     "exception": false,
     "start_time": "2023-05-25T14:26:11.856906",
     "status": "completed"
    },
    "tags": []
   },
   "outputs": [
    {
     "data": {
      "text/html": [
       "<div>\n",
       "<style scoped>\n",
       "    .dataframe tbody tr th:only-of-type {\n",
       "        vertical-align: middle;\n",
       "    }\n",
       "\n",
       "    .dataframe tbody tr th {\n",
       "        vertical-align: top;\n",
       "    }\n",
       "\n",
       "    .dataframe thead th {\n",
       "        text-align: right;\n",
       "    }\n",
       "</style>\n",
       "<table border=\"1\" class=\"dataframe\">\n",
       "  <thead>\n",
       "    <tr style=\"text-align: right;\">\n",
       "      <th></th>\n",
       "      <th>itching</th>\n",
       "      <th>skin_rash</th>\n",
       "      <th>nodal_skin_eruptions</th>\n",
       "      <th>continuous_sneezing</th>\n",
       "      <th>shivering</th>\n",
       "      <th>chills</th>\n",
       "      <th>joint_pain</th>\n",
       "      <th>stomach_pain</th>\n",
       "      <th>acidity</th>\n",
       "      <th>ulcers_on_tongue</th>\n",
       "      <th>...</th>\n",
       "      <th>pus_filled_pimples</th>\n",
       "      <th>blackheads</th>\n",
       "      <th>scurring</th>\n",
       "      <th>skin_peeling</th>\n",
       "      <th>silver_like_dusting</th>\n",
       "      <th>small_dents_in_nails</th>\n",
       "      <th>inflammatory_nails</th>\n",
       "      <th>blister</th>\n",
       "      <th>red_sore_around_nose</th>\n",
       "      <th>yellow_crust_ooze</th>\n",
       "    </tr>\n",
       "  </thead>\n",
       "  <tbody>\n",
       "    <tr>\n",
       "      <th>0</th>\n",
       "      <td>1</td>\n",
       "      <td>1</td>\n",
       "      <td>1</td>\n",
       "      <td>0</td>\n",
       "      <td>0</td>\n",
       "      <td>0</td>\n",
       "      <td>0</td>\n",
       "      <td>0</td>\n",
       "      <td>0</td>\n",
       "      <td>0</td>\n",
       "      <td>...</td>\n",
       "      <td>0</td>\n",
       "      <td>0</td>\n",
       "      <td>0</td>\n",
       "      <td>0</td>\n",
       "      <td>0</td>\n",
       "      <td>0</td>\n",
       "      <td>0</td>\n",
       "      <td>0</td>\n",
       "      <td>0</td>\n",
       "      <td>0</td>\n",
       "    </tr>\n",
       "    <tr>\n",
       "      <th>1</th>\n",
       "      <td>0</td>\n",
       "      <td>0</td>\n",
       "      <td>0</td>\n",
       "      <td>1</td>\n",
       "      <td>1</td>\n",
       "      <td>1</td>\n",
       "      <td>0</td>\n",
       "      <td>0</td>\n",
       "      <td>0</td>\n",
       "      <td>0</td>\n",
       "      <td>...</td>\n",
       "      <td>0</td>\n",
       "      <td>0</td>\n",
       "      <td>0</td>\n",
       "      <td>0</td>\n",
       "      <td>0</td>\n",
       "      <td>0</td>\n",
       "      <td>0</td>\n",
       "      <td>0</td>\n",
       "      <td>0</td>\n",
       "      <td>0</td>\n",
       "    </tr>\n",
       "    <tr>\n",
       "      <th>2</th>\n",
       "      <td>0</td>\n",
       "      <td>0</td>\n",
       "      <td>0</td>\n",
       "      <td>0</td>\n",
       "      <td>0</td>\n",
       "      <td>0</td>\n",
       "      <td>0</td>\n",
       "      <td>1</td>\n",
       "      <td>1</td>\n",
       "      <td>1</td>\n",
       "      <td>...</td>\n",
       "      <td>0</td>\n",
       "      <td>0</td>\n",
       "      <td>0</td>\n",
       "      <td>0</td>\n",
       "      <td>0</td>\n",
       "      <td>0</td>\n",
       "      <td>0</td>\n",
       "      <td>0</td>\n",
       "      <td>0</td>\n",
       "      <td>0</td>\n",
       "    </tr>\n",
       "    <tr>\n",
       "      <th>3</th>\n",
       "      <td>1</td>\n",
       "      <td>0</td>\n",
       "      <td>0</td>\n",
       "      <td>0</td>\n",
       "      <td>0</td>\n",
       "      <td>0</td>\n",
       "      <td>0</td>\n",
       "      <td>0</td>\n",
       "      <td>0</td>\n",
       "      <td>0</td>\n",
       "      <td>...</td>\n",
       "      <td>0</td>\n",
       "      <td>0</td>\n",
       "      <td>0</td>\n",
       "      <td>0</td>\n",
       "      <td>0</td>\n",
       "      <td>0</td>\n",
       "      <td>0</td>\n",
       "      <td>0</td>\n",
       "      <td>0</td>\n",
       "      <td>0</td>\n",
       "    </tr>\n",
       "    <tr>\n",
       "      <th>4</th>\n",
       "      <td>1</td>\n",
       "      <td>1</td>\n",
       "      <td>0</td>\n",
       "      <td>0</td>\n",
       "      <td>0</td>\n",
       "      <td>0</td>\n",
       "      <td>0</td>\n",
       "      <td>1</td>\n",
       "      <td>0</td>\n",
       "      <td>0</td>\n",
       "      <td>...</td>\n",
       "      <td>0</td>\n",
       "      <td>0</td>\n",
       "      <td>0</td>\n",
       "      <td>0</td>\n",
       "      <td>0</td>\n",
       "      <td>0</td>\n",
       "      <td>0</td>\n",
       "      <td>0</td>\n",
       "      <td>0</td>\n",
       "      <td>0</td>\n",
       "    </tr>\n",
       "  </tbody>\n",
       "</table>\n",
       "<p>5 rows × 132 columns</p>\n",
       "</div>"
      ],
      "text/plain": [
       "   itching  skin_rash  nodal_skin_eruptions  continuous_sneezing  shivering  \\\n",
       "0        1          1                     1                    0          0   \n",
       "1        0          0                     0                    1          1   \n",
       "2        0          0                     0                    0          0   \n",
       "3        1          0                     0                    0          0   \n",
       "4        1          1                     0                    0          0   \n",
       "\n",
       "   chills  joint_pain  stomach_pain  acidity  ulcers_on_tongue  ...  \\\n",
       "0       0           0             0        0                 0  ...   \n",
       "1       1           0             0        0                 0  ...   \n",
       "2       0           0             1        1                 1  ...   \n",
       "3       0           0             0        0                 0  ...   \n",
       "4       0           0             1        0                 0  ...   \n",
       "\n",
       "   pus_filled_pimples  blackheads  scurring  skin_peeling  \\\n",
       "0                   0           0         0             0   \n",
       "1                   0           0         0             0   \n",
       "2                   0           0         0             0   \n",
       "3                   0           0         0             0   \n",
       "4                   0           0         0             0   \n",
       "\n",
       "   silver_like_dusting  small_dents_in_nails  inflammatory_nails  blister  \\\n",
       "0                    0                     0                   0        0   \n",
       "1                    0                     0                   0        0   \n",
       "2                    0                     0                   0        0   \n",
       "3                    0                     0                   0        0   \n",
       "4                    0                     0                   0        0   \n",
       "\n",
       "   red_sore_around_nose  yellow_crust_ooze  \n",
       "0                     0                  0  \n",
       "1                     0                  0  \n",
       "2                     0                  0  \n",
       "3                     0                  0  \n",
       "4                     0                  0  \n",
       "\n",
       "[5 rows x 132 columns]"
      ]
     },
     "execution_count": 11,
     "metadata": {},
     "output_type": "execute_result"
    }
   ],
   "source": [
    "test.head()"
   ]
  },
  {
   "cell_type": "code",
   "execution_count": 12,
   "id": "31788da0",
   "metadata": {
    "execution": {
     "iopub.execute_input": "2023-05-25T14:26:11.914405Z",
     "iopub.status.busy": "2023-05-25T14:26:11.913284Z",
     "iopub.status.idle": "2023-05-25T14:26:11.946924Z",
     "shell.execute_reply": "2023-05-25T14:26:11.945333Z"
    },
    "papermill": {
     "duration": 0.049156,
     "end_time": "2023-05-25T14:26:11.951537",
     "exception": false,
     "start_time": "2023-05-25T14:26:11.902381",
     "status": "completed"
    },
    "tags": []
   },
   "outputs": [
    {
     "data": {
      "text/plain": [
       "0.9761904761904762"
      ]
     },
     "execution_count": 12,
     "metadata": {},
     "output_type": "execute_result"
    }
   ],
   "source": [
    "random.score(test,actual)"
   ]
  },
  {
   "cell_type": "markdown",
   "id": "b92bbb8e",
   "metadata": {
    "papermill": {
     "duration": 0.009638,
     "end_time": "2023-05-25T14:26:11.972412",
     "exception": false,
     "start_time": "2023-05-25T14:26:11.962774",
     "status": "completed"
    },
    "tags": []
   },
   "source": [
    "## Result for Actual Data"
   ]
  },
  {
   "cell_type": "code",
   "execution_count": 13,
   "id": "58291adf",
   "metadata": {
    "execution": {
     "iopub.execute_input": "2023-05-25T14:26:11.994045Z",
     "iopub.status.busy": "2023-05-25T14:26:11.993558Z",
     "iopub.status.idle": "2023-05-25T14:26:12.003896Z",
     "shell.execute_reply": "2023-05-25T14:26:12.002294Z"
    },
    "papermill": {
     "duration": 0.024733,
     "end_time": "2023-05-25T14:26:12.006592",
     "exception": false,
     "start_time": "2023-05-25T14:26:11.981859",
     "status": "completed"
    },
    "tags": []
   },
   "outputs": [
    {
     "data": {
      "text/plain": [
       "0                            Fungal infection\n",
       "1                                     Allergy\n",
       "2                                        GERD\n",
       "3                         Chronic cholestasis\n",
       "4                               Drug Reaction\n",
       "5                         Peptic ulcer diseae\n",
       "6                                        AIDS\n",
       "7                                   Diabetes \n",
       "8                             Gastroenteritis\n",
       "9                            Bronchial Asthma\n",
       "10                              Hypertension \n",
       "11                                   Migraine\n",
       "12                       Cervical spondylosis\n",
       "13               Paralysis (brain hemorrhage)\n",
       "14                                   Jaundice\n",
       "15                                    Malaria\n",
       "16                                Chicken pox\n",
       "17                                     Dengue\n",
       "18                                    Typhoid\n",
       "19                                hepatitis A\n",
       "20                                Hepatitis B\n",
       "21                                Hepatitis C\n",
       "22                                Hepatitis D\n",
       "23                                Hepatitis E\n",
       "24                        Alcoholic hepatitis\n",
       "25                               Tuberculosis\n",
       "26                                Common Cold\n",
       "27                                  Pneumonia\n",
       "28               Dimorphic hemmorhoids(piles)\n",
       "29                               Heart attack\n",
       "30                             Varicose veins\n",
       "31                             Hypothyroidism\n",
       "32                            Hyperthyroidism\n",
       "33                               Hypoglycemia\n",
       "34                            Osteoarthristis\n",
       "35                                  Arthritis\n",
       "36    (vertigo) Paroymsal  Positional Vertigo\n",
       "37                                       Acne\n",
       "38                    Urinary tract infection\n",
       "39                                  Psoriasis\n",
       "40                                   Impetigo\n",
       "41                           Fungal infection\n",
       "Name: prognosis, dtype: object"
      ]
     },
     "execution_count": 13,
     "metadata": {},
     "output_type": "execute_result"
    }
   ],
   "source": [
    "actual"
   ]
  },
  {
   "cell_type": "code",
   "execution_count": null,
   "id": "55dbeadc",
   "metadata": {
    "papermill": {
     "duration": 0.009077,
     "end_time": "2023-05-25T14:26:12.025299",
     "exception": false,
     "start_time": "2023-05-25T14:26:12.016222",
     "status": "completed"
    },
    "tags": []
   },
   "outputs": [],
   "source": []
  }
 ],
 "metadata": {
  "kernelspec": {
   "display_name": "Python 3",
   "language": "python",
   "name": "python3"
  },
  "language_info": {
   "codemirror_mode": {
    "name": "ipython",
    "version": 3
   },
   "file_extension": ".py",
   "mimetype": "text/x-python",
   "name": "python",
   "nbconvert_exporter": "python",
   "pygments_lexer": "ipython3",
   "version": "3.10.10"
  },
  "papermill": {
   "default_parameters": {},
   "duration": 20.313894,
   "end_time": "2023-05-25T14:26:13.161361",
   "environment_variables": {},
   "exception": null,
   "input_path": "__notebook__.ipynb",
   "output_path": "__notebook__.ipynb",
   "parameters": {},
   "start_time": "2023-05-25T14:25:52.847467",
   "version": "2.4.0"
  }
 },
 "nbformat": 4,
 "nbformat_minor": 5
}
