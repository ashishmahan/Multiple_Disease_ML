{
  "nbformat": 4,
  "nbformat_minor": 0,
  "metadata": {
    "colab": {
      "provenance": []
    },
    "kernelspec": {
      "name": "python3",
      "display_name": "Python 3"
    },
    "language_info": {
      "name": "python"
    }
  },
  "cells": [
    {
      "cell_type": "code",
      "execution_count": 2,
      "metadata": {
        "colab": {
          "base_uri": "https://localhost:8080/"
        },
        "id": "Q6pghdZuygiQ",
        "outputId": "c2bfb8b6-3880-4515-d94a-7cefd6cf7927"
      },
      "outputs": [
        {
          "output_type": "stream",
          "name": "stdout",
          "text": [
            "SVM Accuracy (Training): 0.7866449511400652\n",
            "SVM Accuracy (Testing): 0.7727272727272727\n",
            "Decision Tree Accuracy (Training): 1.0\n",
            "Decision Tree Accuracy (Testing): 0.7012987012987013\n",
            "Random Forest Accuracy (Training): 1.0\n",
            "Random Forest Accuracy (Testing): 0.7272727272727273\n",
            "K-NN Accuracy (Training): 0.8289902280130294\n",
            "K-NN Accuracy (Testing): 0.7207792207792207\n"
          ]
        }
      ],
      "source": [
        "# Importing the Dependencies\n",
        "import numpy as np\n",
        "import pandas as pd\n",
        "from sklearn.preprocessing import StandardScaler\n",
        "from sklearn.model_selection import train_test_split\n",
        "from sklearn import svm, tree, ensemble, neighbors\n",
        "from sklearn.metrics import accuracy_score\n",
        "\n",
        "# Data Collection and Analysis\n",
        "\n",
        "# PIMA Diabetes Dataset\n",
        "diabetes_dataset = pd.read_csv('/content/diabetes.csv')\n",
        "\n",
        "# Separating the data and labels\n",
        "X = diabetes_dataset.drop(columns='Outcome', axis=1)\n",
        "Y = diabetes_dataset['Outcome']\n",
        "\n",
        "# Standardization\n",
        "scaler = StandardScaler()\n",
        "scaler.fit(X)\n",
        "standardized_data = scaler.transform(X)\n",
        "X = standardized_data\n",
        "\n",
        "# Train-Test Split\n",
        "X_train, X_test, Y_train, Y_test = train_test_split(X, Y, test_size=0.2, stratify=Y, random_state=2)\n",
        "\n",
        "# Training and Evaluating Different Models\n",
        "\n",
        "# Support Vector Machine (SVM) with Linear Kernel\n",
        "classifier_svm = svm.SVC(kernel='linear')\n",
        "classifier_svm.fit(X_train, Y_train)\n",
        "svm_train_predictions = classifier_svm.predict(X_train)\n",
        "svm_test_predictions = classifier_svm.predict(X_test)\n",
        "svm_train_accuracy = accuracy_score(svm_train_predictions, Y_train)\n",
        "svm_test_accuracy = accuracy_score(svm_test_predictions, Y_test)\n",
        "\n",
        "# Decision Tree Classifier\n",
        "classifier_tree = tree.DecisionTreeClassifier()\n",
        "classifier_tree.fit(X_train, Y_train)\n",
        "tree_train_predictions = classifier_tree.predict(X_train)\n",
        "tree_test_predictions = classifier_tree.predict(X_test)\n",
        "tree_train_accuracy = accuracy_score(tree_train_predictions, Y_train)\n",
        "tree_test_accuracy = accuracy_score(tree_test_predictions, Y_test)\n",
        "\n",
        "# Random Forest Classifier\n",
        "classifier_rf = ensemble.RandomForestClassifier(n_estimators=100, random_state=2)\n",
        "classifier_rf.fit(X_train, Y_train)\n",
        "rf_train_predictions = classifier_rf.predict(X_train)\n",
        "rf_test_predictions = classifier_rf.predict(X_test)\n",
        "rf_train_accuracy = accuracy_score(rf_train_predictions, Y_train)\n",
        "rf_test_accuracy = accuracy_score(rf_test_predictions, Y_test)\n",
        "\n",
        "# K-Nearest Neighbors (K-NN) Classifier\n",
        "classifier_knn = neighbors.KNeighborsClassifier(n_neighbors=5)\n",
        "classifier_knn.fit(X_train, Y_train)\n",
        "knn_train_predictions = classifier_knn.predict(X_train)\n",
        "knn_test_predictions = classifier_knn.predict(X_test)\n",
        "knn_train_accuracy = accuracy_score(knn_train_predictions, Y_train)\n",
        "knn_test_accuracy = accuracy_score(knn_test_predictions, Y_test)\n",
        "\n",
        "# Displaying Model Performance\n",
        "\n",
        "print(\"SVM Accuracy (Training):\", svm_train_accuracy)\n",
        "print(\"SVM Accuracy (Testing):\", svm_test_accuracy)\n",
        "\n",
        "print(\"Decision Tree Accuracy (Training):\", tree_train_accuracy)\n",
        "print(\"Decision Tree Accuracy (Testing):\", tree_test_accuracy)\n",
        "\n",
        "print(\"Random Forest Accuracy (Training):\", rf_train_accuracy)\n",
        "print(\"Random Forest Accuracy (Testing):\", rf_test_accuracy)\n",
        "\n",
        "print(\"K-NN Accuracy (Training):\", knn_train_accuracy)\n",
        "print(\"K-NN Accuracy (Testing):\", knn_test_accuracy)\n"
      ]
    }
  ]
}